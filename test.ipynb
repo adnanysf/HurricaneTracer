{
 "cells": [
  {
   "cell_type": "code",
   "execution_count": 1,
   "metadata": {},
   "outputs": [],
   "source": [
    "import numpy as np"
   ]
  },
  {
   "cell_type": "code",
   "execution_count": 19,
   "metadata": {},
   "outputs": [
    {
     "name": "stdout",
     "output_type": "stream",
     "text": [
      "10\n",
      "(3, 2, 2)\n",
      "3\n"
     ]
    }
   ],
   "source": [
    "#create a 3d array, and print the last element of the second dimension\n",
    "npArray = np.array([[[1,2],[3,4]],[[6,7],[9,10]],[[11,12],[14,15]]])\n",
    "print(npArray[1,-1,-1])\n",
    "print(npArray.shape)\n",
    "print(npArray.ndim)"
   ]
  }
 ],
 "metadata": {
  "kernelspec": {
   "display_name": "geog676",
   "language": "python",
   "name": "python3"
  },
  "language_info": {
   "codemirror_mode": {
    "name": "ipython",
    "version": 3
   },
   "file_extension": ".py",
   "mimetype": "text/x-python",
   "name": "python",
   "nbconvert_exporter": "python",
   "pygments_lexer": "ipython3",
   "version": "3.11.6"
  }
 },
 "nbformat": 4,
 "nbformat_minor": 2
}
